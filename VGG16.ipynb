{
 "cells": [
  {
   "cell_type": "markdown",
   "id": "2faa905b",
   "metadata": {},
   "source": [
    "# 라이브러리 로딩"
   ]
  },
  {
   "cell_type": "code",
   "execution_count": 3,
   "id": "171cf90a",
   "metadata": {
    "ExecuteTime": {
     "end_time": "2023-01-20T06:32:01.619606Z",
     "start_time": "2023-01-20T06:32:01.610232Z"
    }
   },
   "outputs": [],
   "source": [
    "import numpy as np\n",
    "import keras\n",
    "from keras.applications import vgg16\n",
    "from keras.preprocessing.image import ImageDataGenerator\n",
    "from keras.layers import Dense\n",
    "from keras.models import Model"
   ]
  },
  {
   "cell_type": "markdown",
   "id": "6fbd66bf",
   "metadata": {},
   "source": [
    "# 이미지 전처리"
   ]
  },
  {
   "cell_type": "code",
   "execution_count": null,
   "id": "c4d7dee3",
   "metadata": {},
   "outputs": [],
   "source": []
  },
  {
   "cell_type": "markdown",
   "id": "2c076e05",
   "metadata": {},
   "source": [
    "# 모델 구축"
   ]
  },
  {
   "cell_type": "code",
   "execution_count": null,
   "id": "564fbcf9",
   "metadata": {},
   "outputs": [],
   "source": [
    "# Load the pre-trained VGG16 model\n",
    "base_model = VGG16(weights='imagenet', include_top=False, input_shape=(224, 224, 3))\n",
    "\n",
    "# Freeze the convolutional layers\n",
    "for layer in base_model.layers:\n",
    "    layer.trainable = False\n",
    "\n",
    "# Add a new fully connected layer for image similarity detection\n",
    "x = base_model.output\n",
    "x = Dense(512, activation='relu')(x) # (or any other number of neurons)\n",
    "x = Dense(128, activation='relu')(x)\n",
    "\n",
    "# Final feature extraction layer\n",
    "features = Dense(64, activation='linear')(x)\n",
    "\n",
    "# Create the fine-tuned model\n",
    "model = Model(inputs=base_model.input, outputs=features)\n",
    "\n",
    "# Compile the model\n",
    "model.compile(optimizer='adam', loss='binary_crossentropy')\n",
    "\n",
    "# # Load your dataset\n",
    "# train_datagen = ImageDataGenerator(rescale = 1./255,\n",
    "#                                    shear_range = 0.2,\n",
    "#                                    zoom_range = 0.2,\n",
    "#                                    horizontal_flip = True)\n",
    "# validation_datagen = ImageDataGenerator(rescale = 1./255)\n",
    "\n",
    "# # Define the generator\n",
    "# training_set = train_datagen.flow_from_directory('dataset/training_set',\n",
    "#                                                  target_size = (224, 224),\n",
    "#                                                  batch_size = 32,\n",
    "#                                                  class_mode = 'binary')\n",
    "\n",
    "# validation_set = validation_datagen.flow_from_directory('dataset/validation_set',\n",
    "#                                             target_size = (224, 224),\n",
    "#                                             batch_size = 32,\n",
    "#                                             class_mode = 'binary')\n",
    "\n",
    "# Train the model\n",
    "model.fit_generator(training_set,\n",
    "                         steps_per_epoch = 2000,\n",
    "                         epochs = 10,\n",
    "                         validation_data = validation_set,\n",
    "                         validation_steps = 800)"
   ]
  },
  {
   "cell_type": "code",
   "execution_count": 2,
   "id": "af531b69",
   "metadata": {
    "ExecuteTime": {
     "end_time": "2023-01-20T06:30:50.493193Z",
     "start_time": "2023-01-20T06:30:50.475854Z"
    }
   },
   "outputs": [],
   "source": [
    "from keras import applications"
   ]
  }
 ],
 "metadata": {
  "hide_input": false,
  "kernelspec": {
   "display_name": "Python 3 (ipykernel)",
   "language": "python",
   "name": "python3"
  },
  "language_info": {
   "codemirror_mode": {
    "name": "ipython",
    "version": 3
   },
   "file_extension": ".py",
   "mimetype": "text/x-python",
   "name": "python",
   "nbconvert_exporter": "python",
   "pygments_lexer": "ipython3",
   "version": "3.9.13"
  },
  "toc": {
   "base_numbering": 1,
   "nav_menu": {},
   "number_sections": true,
   "sideBar": true,
   "skip_h1_title": false,
   "title_cell": "Table of Contents",
   "title_sidebar": "Contents",
   "toc_cell": false,
   "toc_position": {},
   "toc_section_display": true,
   "toc_window_display": false
  }
 },
 "nbformat": 4,
 "nbformat_minor": 5
}
